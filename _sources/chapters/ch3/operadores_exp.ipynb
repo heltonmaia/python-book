{
  "nbformat": 4,
  "nbformat_minor": 0,
  "metadata": {
    "colab": {
      "provenance": [],
      "toc_visible": true
    },
    "kernelspec": {
      "name": "python3",
      "display_name": "Python 3"
    },
    "language_info": {
      "name": "python"
    }
  },
  "cells": [
    {
      "cell_type": "markdown",
      "source": [
        "# Capítulo 3: Operadores e expressões\n",
        "\n"
      ],
      "metadata": {
        "id": "ULxWGdhVqcRt"
      }
    },
    {
      "cell_type": "markdown",
      "source": [
        "Compreender os operadores e expressões em Python é essencial para capacitar programadores na manipulação eficiente de dados e na execução de operações fundamentais. Esses operadores, que incluem aritméticos, relacionais, lógicos e de atribuição, desempenham papéis específicos, permitindo desde cálculos matemáticos até avaliações condicionais. O domínio desses conceitos não apenas facilita a escrita de códigos mais eficazes, mas também é vital para a resolução de problemas complexos e a compreensão de códigos existentes. Em resumo, o conhecimento aprofundado dos operadores e expressões em Python é uma habilidade fundamental para o desenvolvimento eficiente de algoritmos e lógica de programação.\n"
      ],
      "metadata": {
        "id": "ebERi_S7Z4OC"
      }
    },
    {
      "cell_type": "markdown",
      "source": [
        "\n",
        "## Operadores Aritméticos:\n",
        "\n",
        "- `+` (adição): Soma dois valores.\n",
        "- `-` (subtração): Subtrai o operando direito do operando esquerdo.\n",
        "- `*` (multiplicação): Multiplica dois valores.\n",
        "- `/` (divisão): Divide o operando esquerdo pelo operando direito.\n",
        "- `%` (módulo): Retorna o resto da divisão do operando esquerdo pelo operando direito.\n",
        "- `//` (divisão de piso): Retorna a parte inteira da divisão do operando esquerdo pelo operando direito.\n",
        "- `**` (potência): Eleva o operando esquerdo à potência do operando direito.\n"
      ],
      "metadata": {
        "id": "gOAMIk7AZUXI"
      }
    },
    {
      "cell_type": "code",
      "source": [
        "# Operadores Aritméticos em Python\n",
        "\n",
        "# Adição (+): Soma dois valores.\n",
        "soma = 5 + 3\n",
        "print(\"Adição:\", soma)\n",
        "\n",
        "# Subtração (-): Subtrai o operando direito do operando esquerdo.\n",
        "subtracao = 7 - 4\n",
        "print(\"Subtração:\", subtracao)\n",
        "\n",
        "# Multiplicação (*): Multiplica dois valores.\n",
        "multiplicacao = 6 * 2\n",
        "print(\"Multiplicação:\", multiplicacao)\n",
        "\n",
        "# Divisão (/): Divide o operando esquerdo pelo operando direito.\n",
        "divisao = 10 / 3\n",
        "print(\"Divisão:\", divisao)\n",
        "\n",
        "# Módulo (%): Retorna o resto da divisão do operando esquerdo pelo operando direito.\n",
        "modulo = 15 % 4\n",
        "print(\"Módulo:\", modulo)\n",
        "\n",
        "# Divisão de Piso (//): Retorna a parte inteira da divisão do operando esquerdo pelo operando direito.\n",
        "divisao_piso = 20 // 3\n",
        "print(\"Divisão de Piso:\", divisao_piso)\n",
        "\n",
        "# Potência (**): Eleva o operando esquerdo à potência do operando direito.\n",
        "potencia = 2 ** 4\n",
        "print(\"Potência:\", potencia)"
      ],
      "metadata": {
        "id": "8qa6NUwxWAVJ"
      },
      "execution_count": null,
      "outputs": []
    },
    {
      "cell_type": "markdown",
      "source": [
        "## Operadores Relacionais:\n",
        "\n",
        "- `==` (igual a): Retorna True se os operandos forem iguais.\n",
        "- `!=` (diferente de): Retorna True se os operandos não forem iguais.\n",
        "- `<` (menor que): Retorna True se o operando esquerdo for menor que o operando direito.\n",
        "- `>` (maior que): Retorna True se o operando esquerdo for maior que o operando direito.\n",
        "- `<=` (menor ou igual a): Retorna True se o operando esquerdo for menor ou igual ao operando direito.\n",
        "- `>=` (maior ou igual a): Retorna True se o operando esquerdo for maior ou igual ao operando direito."
      ],
      "metadata": {
        "id": "5oRQxcsCWabP"
      }
    },
    {
      "cell_type": "code",
      "source": [
        "# Operadores Relacionais em Python\n",
        "\n",
        "# Igual a (==): Retorna True se os operandos forem iguais.\n",
        "igual_a = 5 == 5\n",
        "print(\"Igual a:\", igual_a)\n",
        "\n",
        "# Diferente de (!=): Retorna True se os operandos não forem iguais.\n",
        "diferente_de = 6 != 5\n",
        "print(\"Diferente de:\", diferente_de)\n",
        "\n",
        "# Menor que (<): Retorna True se o operando esquerdo for menor que o operando direito.\n",
        "menor_que = 4 < 7\n",
        "print(\"Menor que:\", menor_que)\n",
        "\n",
        "# Maior que (>): Retorna True se o operando esquerdo for maior que o operando direito.\n",
        "maior_que = 8 > 5\n",
        "print(\"Maior que:\", maior_que)\n",
        "\n",
        "# Menor ou igual a (<=): Retorna True se o operando esquerdo for menor ou igual ao operando direito.\n",
        "menor_ou_igual_a = 5 <= 5\n",
        "print(\"Menor ou igual a:\", menor_ou_igual_a)\n",
        "\n",
        "# Maior ou igual a (>=): Retorna True se o operando esquerdo for maior ou igual ao operando direito.\n",
        "maior_ou_igual_a = 7 >= 6\n",
        "print(\"Maior ou igual a:\", maior_ou_igual_a)\n"
      ],
      "metadata": {
        "id": "OBwgWduZWiU5"
      },
      "execution_count": null,
      "outputs": []
    },
    {
      "cell_type": "markdown",
      "source": [
        "\n",
        "## Operadores Lógicos:\n",
        "\n",
        "- `and` (e lógico): Retorna True se ambos os operandos forem True.\n",
        "- `or` (ou lógico): Retorna True se pelo menos um dos operandos for True.\n",
        "- `not` (negação lógica): Inverte o valor do operando."
      ],
      "metadata": {
        "id": "Rir7gk64Wclg"
      }
    },
    {
      "cell_type": "code",
      "source": [
        "# Operadores Lógicos em Python\n",
        "\n",
        "# E lógico (and): Retorna True se ambos os operandos forem True.\n",
        "resultado_and_1 = True and True\n",
        "resultado_and_2 = True and False\n",
        "resultado_and_3 = False and False\n",
        "\n",
        "# Ou lógico (or): Retorna True se pelo menos um dos operandos for True.\n",
        "resultado_or_1 = True or True\n",
        "resultado_or_2 = True or False\n",
        "resultado_or_3 = False or False\n",
        "\n",
        "# Negação lógica (not): Inverte o valor do operando.\n",
        "resultado_not_1 = not True\n",
        "resultado_not_2 = not False\n",
        "\n",
        "# Exibição dos resultados\n",
        "print(\"E lógico (and):\", resultado_and_1, resultado_and_2, resultado_and_3)\n",
        "print(\"Ou lógico (or):\", resultado_or_1, resultado_or_2, resultado_or_3)\n",
        "print(\"Negação lógica (not):\", resultado_not_1, resultado_not_2)"
      ],
      "metadata": {
        "colab": {
          "base_uri": "https://localhost:8080/"
        },
        "id": "Xo0e3tezWkT6",
        "outputId": "3c399fa1-78d8-496e-c53b-181a2ab70dfb"
      },
      "execution_count": 2,
      "outputs": [
        {
          "output_type": "stream",
          "name": "stdout",
          "text": [
            "E lógico (and): True False False\n",
            "Ou lógico (or): True True False\n",
            "Negação lógica (not): False True\n"
          ]
        }
      ]
    },
    {
      "cell_type": "markdown",
      "source": [
        "## Operadores de Atribuição:\n",
        "\n",
        "- `=` (atribuição): Atribui o valor do operando direito ao operando esquerdo.\n",
        "- `+=`, `-=`, `*=`, `/=`, `%=` (atribuições com operações aritméticas): Realiza a operação aritmética indicada e atribui o resultado à variável à esquerda."
      ],
      "metadata": {
        "id": "97EV9hFDWeNX"
      }
    },
    {
      "cell_type": "code",
      "source": [
        "# Operadores de Atribuição em Python\n",
        "\n",
        "# Atribuição (=): Atribui o valor do operando direito ao operando esquerdo.\n",
        "x = 5\n",
        "y = x\n",
        "\n",
        "# Atribuições com operações aritméticas: Realiza a operação aritmética e atribui o resultado à variável à esquerda.\n",
        "a = 10\n",
        "a += 2  # Equivalente a: a = a + 2\n",
        "\n",
        "b = 7\n",
        "b -= 3  # Equivalente a: b = b - 3\n",
        "\n",
        "c = 3\n",
        "c *= 5  # Equivalente a: c = c * 5\n",
        "\n",
        "d = 8\n",
        "d /= 2  # Equivalente a: d = d / 2\n",
        "\n",
        "e = 15\n",
        "e %= 4  # Equivalente a: e = e % 4\n",
        "\n",
        "# Exibição dos valores após as operações\n",
        "print(\"Atribuição (=):\", x, y)\n",
        "print(\"Atribuição com soma (+=):\", a)\n",
        "print(\"Atribuição com subtração (-=):\", b)\n",
        "print(\"Atribuição com multiplicação (*=):\", c)\n",
        "print(\"Atribuição com divisão (/=):\", d)\n",
        "print(\"Atribuição com módulo (%=):\", e)\n"
      ],
      "metadata": {
        "colab": {
          "base_uri": "https://localhost:8080/"
        },
        "id": "M29-xnOwWlLs",
        "outputId": "2d144735-6daa-407e-aa3c-e287156fcc3e"
      },
      "execution_count": 3,
      "outputs": [
        {
          "output_type": "stream",
          "name": "stdout",
          "text": [
            "Atribuição (=): 5 5\n",
            "Atribuição com soma (+=): 12\n",
            "Atribuição com subtração (-=): 4\n",
            "Atribuição com multiplicação (*=): 15\n",
            "Atribuição com divisão (/=): 4.0\n",
            "Atribuição com módulo (%=): 3\n"
          ]
        }
      ]
    },
    {
      "cell_type": "markdown",
      "source": [
        "## Expressões em Python:\n",
        "\n",
        "Uma expressão é uma combinação de valores, variáveis e operadores que pode ser avaliada e resulta em um valor. Por exemplo, `2 + 3` é uma expressão que resulta em `5`. Expressões podem ser simples ou complexas, envolvendo múltiplos operadores e operandos.\n",
        "\n",
        "Exemplo de expressão simples:\n",
        "```python\n",
        "resultado = 5 + 3\n",
        "```\n",
        "\n",
        "Exemplo de expressão mais complexa:\n",
        "```python\n",
        "media = (nota1 + nota2 + nota3) / 3\n",
        "```\n",
        "\n",
        "Esses conceitos de operadores e expressões são fundamentais para realizar cálculos, tomar decisões e manipular dados em programas Python. Eles formam a base para a construção de lógica e funcionalidades mais complexas em programação."
      ],
      "metadata": {
        "id": "YZ12c93qU5vs"
      }
    }
  ]
}