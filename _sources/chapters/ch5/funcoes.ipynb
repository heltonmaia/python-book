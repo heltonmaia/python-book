{
  "nbformat": 4,
  "nbformat_minor": 0,
  "metadata": {
    "colab": {
      "provenance": [],
      "toc_visible": true
    },
    "kernelspec": {
      "name": "python3",
      "display_name": "Python 3"
    },
    "language_info": {
      "name": "python"
    }
  },
  "cells": [
    {
      "cell_type": "markdown",
      "source": [
        "# Capítulo 5: Funções"
      ],
      "metadata": {
        "id": "bsX7qzeTwOwc"
      }
    },
    {
      "cell_type": "markdown",
      "source": [
        "Em programação, uma função é um conjunto de instruções que executa uma tarefa específica, promovendo a organização e a reutilização de código. Em Python, é possível criar funções personalizadas para atender às necessidades do programa. Além disso, a linguagem inclui funções built-in, como print() e len(), proporcionando desde operações básicas até funcionalidades mais avançadas. A combinação de funções built-in com aquelas criadas pelos programadores resulta em um ambiente flexível e eficiente para o desenvolvimento em Python."
      ],
      "metadata": {
        "id": "ULxWGdhVqcRt"
      }
    },
    {
      "cell_type": "markdown",
      "source": [
        "As funções *built-in* do Python são funções que estão incorporadas na própria linguagem e estão sempre disponíveis para uso, sem a necessidade de importar módulos específicos. Essas funções fornecem funcionalidades essenciais e são parte integral do núcleo da linguagem Python.\n",
        "\n",
        "Aqui estão alguns exemplos de funções *built-in*:\n",
        "\n",
        "1. **`print()`:** Usada para imprimir texto ou valores no console.\n",
        "\n",
        "   ```python\n",
        "   print(\"Olá, Python!\")\n",
        "   ```\n",
        "\n",
        "2. **`type()`:** Retorna o tipo de um objeto.\n",
        "\n",
        "   ```python\n",
        "   numero = 42\n",
        "   print(type(numero))\n",
        "   ```\n",
        "\n",
        "3. **`len()`:** Retorna o número de itens em um objeto (como uma lista, tupla ou string).\n",
        "\n",
        "   ```python\n",
        "   minha_lista = [1, 2, 3, 4, 5]\n",
        "   print(len(minha_lista))\n",
        "   ```\n",
        "\n",
        "4. **`input()`:** Lê uma linha da entrada do usuário.\n",
        "\n",
        "   ```python\n",
        "   nome = input(\"Digite seu nome: \")\n",
        "   print(\"Olá, \" + nome + \"!\")\n",
        "   ```\n",
        "\n",
        "5. **`int()`, `float()`, `str()`:** Convertem valores para os tipos inteiros, ponto flutuante e string, respectivamente.\n",
        "\n",
        "   ```python\n",
        "   numero = \"42\"\n",
        "   numero_inteiro = int(numero)\n",
        "   print(numero_inteiro)\n",
        "   ```\n",
        "\n",
        "6. **`max()`, `min()`:** Retorna o valor máximo ou mínimo de uma sequência de valores.\n",
        "\n",
        "   ```python\n",
        "   numeros = [3, 1, 4, 1, 5, 9, 2]\n",
        "   print(max(numeros))\n",
        "   ```\n",
        "\n",
        "Essas são apenas algumas das muitas funções *built-in* disponíveis no Python. A documentação oficial do Python fornece uma lista completa dessas funções, juntamente com suas descrições e exemplos de uso: [Funções Built-in do Python](https://docs.python.org/3/library/functions.html). Essas funções são fundamentais para realizar tarefas comuns durante o desenvolvimento em Python."
      ],
      "metadata": {
        "id": "qRPqFHlZN-SR"
      }
    }
  ]
}