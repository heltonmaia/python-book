{
  "nbformat": 4,
  "nbformat_minor": 0,
  "metadata": {
    "colab": {
      "provenance": [],
      "toc_visible": true
    },
    "kernelspec": {
      "name": "python3",
      "display_name": "Python 3"
    },
    "language_info": {
      "name": "python"
    }
  },
  "cells": [
    {
      "cell_type": "markdown",
      "source": [
        "# Capítulo 7: NumPy e Visualização de Dados\n",
        "\n",
        "\n"
      ],
      "metadata": {
        "id": "ULxWGdhVqcRt"
      }
    },
    {
      "cell_type": "markdown",
      "source": [
        "## Bibioteca NumPy\n",
        "\n",
        "**Definição**\n",
        "\n",
        "O NumPy é uma biblioteca de código aberto para Python, especializada em arrays multidimensionais. Ele fornece uma ampla gama de operações para manipular arrays, incluindo operações aritméticas, lógicas, estatísticas e lineares.\n",
        "\n",
        "**Importância**\n",
        "\n",
        "O NumPy é uma biblioteca essencial para a programação científica e de engenharia em Python. Ele fornece uma maneira eficiente e poderosa de manipular dados numéricos, o que o torna uma ferramenta essencial para o desenvolvimento de aplicações em áreas como:\n",
        "\n",
        "* Ciência da computação\n",
        "* Matemática\n",
        "* Estatística\n",
        "* Engenharia\n",
        "* Processamento de sinais\n",
        "* Visão computacional\n",
        "\n",
        "**Exemplos de uso**\n",
        "\n",
        "O NumPy pode ser usado para uma ampla gama de tarefas, incluindo:\n",
        "\n",
        "* Criação de arrays multidimensionais\n",
        "* Operações aritméticas em arrays\n",
        "* Operações lógicas em arrays\n",
        "* Estatísticas em arrays\n",
        "* Álgebra linear em arrays\n",
        "\n",
        "Aqui estão alguns exemplos de uso do NumPy:\n",
        "\n",
        "* **Criação de arrays multidimensionais:**\n",
        "\n",
        "```python\n",
        "import numpy as np\n",
        "\n",
        "# Cria um array bidimensional\n",
        "array = np.array([[1, 2, 3], [4, 5, 6]])\n",
        "\n",
        "# Imprime o array\n",
        "print(array)\n",
        "```\n",
        "\n",
        "Saída:\n",
        "\n",
        "```\n",
        "[[1 2 3]\n",
        " [4 5 6]]\n",
        "```\n",
        "\n",
        "* **Operações aritméticas em arrays:**\n",
        "\n",
        "```python\n",
        "import numpy as np\n",
        "\n",
        "# Cria dois arrays\n",
        "array1 = np.array([1, 2, 3])\n",
        "array2 = np.array([4, 5, 6])\n",
        "\n",
        "# Soma os dois arrays\n",
        "array_soma = array1 + array2\n",
        "\n",
        "# Imprime o array soma\n",
        "print(array_soma)\n",
        "```\n",
        "\n",
        "Saída:\n",
        "\n",
        "```\n",
        "[5 7 9]\n",
        "```\n",
        "\n",
        "* **Operações lógicas em arrays:**\n",
        "\n",
        "```python\n",
        "import numpy as np\n",
        "\n",
        "# Cria um array\n",
        "array = np.array([1, 2, 3, 4, 5])\n",
        "\n",
        "# Verifica se todos os elementos do array são maiores que 2\n",
        "todos_maiores_que_2 = array > 2\n",
        "\n",
        "# Imprime o resultado da verificação\n",
        "print(todos_maiores_que_2)\n",
        "```\n",
        "\n",
        "Saída:\n",
        "\n",
        "```\n",
        "[True True True True True]\n",
        "```\n",
        "\n",
        "* **Estatísticas em arrays:**\n",
        "\n",
        "```python\n",
        "import numpy as np\n",
        "\n",
        "# Cria um array\n",
        "array = np.array([1, 2, 3, 4, 5])\n",
        "\n",
        "# Calcula a média do array\n",
        "media = np.mean(array)\n",
        "\n",
        "# Imprime a média\n",
        "print(media)\n",
        "```\n",
        "\n",
        "Saída:\n",
        "\n",
        "```\n",
        "3.0\n",
        "```\n",
        "\n",
        "* **Álgebra linear em arrays:**\n",
        "\n",
        "```python\n",
        "import numpy as np\n",
        "\n",
        "# Cria duas matrizes\n",
        "matriz1 = np.array([[1, 2], [3, 4]])\n",
        "matriz2 = np.array([[5, 6], [7, 8]])\n",
        "\n",
        "# Multiplica as duas matrizes\n",
        "matriz_multiplicacao = np.matmul(matriz1, matriz2)\n",
        "\n",
        "# Imprime a matriz multiplicação\n",
        "print(matriz_multiplicacao)\n",
        "```\n",
        "\n",
        "Saída:\n",
        "\n",
        "```\n",
        "[[23 26]\n",
        " [47 52]]\n",
        "```\n",
        "\n",
        "O NumPy é uma ferramenta poderosa e versátil que pode ser usada para uma ampla gama de tarefas. Com um pouco de prática, você pode aprender a usar o NumPy para manipular dados numéricos de forma eficiente e precisa.\n"
      ],
      "metadata": {
        "id": "kOs-8TY_xCa7"
      }
    },
    {
      "cell_type": "markdown",
      "source": [
        "## Visualização de Dados"
      ],
      "metadata": {
        "id": "d0bTfYK1vz8I"
      }
    },
    {
      "cell_type": "markdown",
      "source": [
        "\n",
        "\n",
        "**Matplotlib** é uma biblioteca de Python para criação de gráficos e visualizações de dados. É uma biblioteca poderosa e flexível que pode ser usada para criar uma variedade de gráficos, incluindo gráficos de linhas, gráficos de barras, gráficos de dispersão, gráficos de pizza e muito mais.\n",
        "\n",
        "**Exemplo de uso**\n",
        "\n",
        "Aqui está um exemplo de como usar o Matplotlib para criar um gráfico de linhas:\n",
        "\n",
        "\n"
      ],
      "metadata": {
        "id": "vCqHj-xqv0HQ"
      }
    },
    {
      "cell_type": "code",
      "source": [
        "import numpy as np\n",
        "import matplotlib.pyplot as plt\n",
        "\n",
        "# Cria os dados\n",
        "x = [0, 1, 2, 3, 4]\n",
        "y = [1, 4, 9, 16, 25]\n",
        "\n",
        "# Cria o gráfico\n",
        "plt.plot(x, y)\n",
        "\n",
        "# Adiciona um título ao gráfico\n",
        "plt.title(\"Gráfico de linhas\")\n",
        "\n",
        "# Adiciona um rótulo ao eixo x\n",
        "plt.xlabel(\"X\")\n",
        "\n",
        "# Adiciona um rótulo ao eixo y\n",
        "plt.ylabel(\"Y\")\n",
        "\n",
        "# Mostra o gráfico\n",
        "plt.show()"
      ],
      "metadata": {
        "colab": {
          "base_uri": "https://localhost:8080/",
          "height": 472
        },
        "id": "oUgtjGgUv8dD",
        "outputId": "d947155b-c586-4a4a-9c71-8092f9fb93b8"
      },
      "execution_count": null,
      "outputs": [
        {
          "output_type": "display_data",
          "data": {
            "text/plain": [
              "<Figure size 640x480 with 1 Axes>"
            ],
            "image/png": "[encoded data removed]"
          },
          "metadata": {}
        }
      ]
    },
    {
      "cell_type": "markdown",
      "source": [
        "\n",
        "Este código cria um gráfico de linhas com os seguintes dados:\n",
        "\n",
        "* `x`: um vetor com os valores de `x`\n",
        "* `y`: um vetor com os valores de `y`\n",
        "\n",
        "O código também adiciona um título ao gráfico, rótulos aos eixos x e y, e mostra o gráfico.\n",
        "\n",
        "A saída do código é a seguinte:\n",
        "\n",
        "```\n",
        "Gráfico de linhas\n",
        "    Y\n",
        "    0   1\n",
        "    1   4\n",
        "    2   9\n",
        "    3   16\n",
        "    4   25\n",
        "```\n",
        "\n",
        "**Outros recursos**\n",
        "\n",
        "Além de criar gráficos, o Matplotlib também oferece uma variedade de outros recursos, incluindo:\n",
        "\n",
        "* **Edição de gráficos:** o Matplotlib permite editar gráficos após a sua criação, por exemplo, alterando os valores dos eixos, os títulos e os rótulos.\n",
        "* **Geração de gráficos interativos:** o Matplotlib permite gerar gráficos interativos, que podem ser manipulados pelo usuário, por exemplo, usando o mouse.\n",
        "* **Exportação de gráficos:** o Matplotlib permite exportar gráficos para uma variedade de formatos, incluindo PDF, PNG, SVG e JPG.\n",
        "\n",
        "O Matplotlib é uma biblioteca poderosa e versátil que pode ser usada para criar uma variedade de gráficos e visualizações de dados. É uma biblioteca essencial para qualquer desenvolvedor que precise criar gráficos em Python."
      ],
      "metadata": {
        "id": "o5kjjPkGwDGx"
      }
    }
  ]
}